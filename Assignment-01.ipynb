{
 "cells": [
  {
   "cell_type": "markdown",
   "id": "0c2ee51c",
   "metadata": {},
   "source": [
    "Q1 Basic NumPy Array "
   ]
  },
  {
   "cell_type": "markdown",
   "id": "3427f396",
   "metadata": {},
   "source": [
    "(a) Reverse the NumPy array: arr = np.array([1, 2, 3, 6, 4, 5]) "
   ]
  },
  {
   "cell_type": "code",
   "execution_count": null,
   "id": "fe524d8b",
   "metadata": {},
   "outputs": [
    {
     "name": "stdout",
     "output_type": "stream",
     "text": [
      "\n",
      "[5 4 6 3 2 1]\n",
      "[5 4 6 3 2 1]\n"
     ]
    }
   ],
   "source": [
    "# (a)\n",
    "import numpy as np\n",
    "\n",
    "arr = np.array([1, 2, 3, 6, 4, 5])\n",
    "print()\n",
    "rev1 = arr[::-1]\n",
    "rev2 = np.flip(arr)\n",
    "print(rev1)\n",
    "print(rev2)"
   ]
  },
  {
   "cell_type": "markdown",
   "id": "41466cc6",
   "metadata": {},
   "source": [
    "(b) Flatten the NumPy arr: array1 = np.array([[1, 2, 3], [2, 4, 5], [1, 2, 3]]) using any two \n",
    "NumPy in-built methods"
   ]
  },
  {
   "cell_type": "code",
   "execution_count": null,
   "id": "a33f2440",
   "metadata": {},
   "outputs": [
    {
     "name": "stdout",
     "output_type": "stream",
     "text": [
      "[1 2 3 2 4 5 1 2 3]\n",
      "[1 2 3 2 4 5 1 2 3]\n"
     ]
    }
   ],
   "source": [
    "# (b)\n",
    "array1 = np.array([[1, 2, 3], [2, 4, 5], [1, 2, 3]])\n",
    "f1 = array1.flatten()\n",
    "f2 = array1.ravel()\n",
    "print(f1)\n",
    "print(f2)"
   ]
  },
  {
   "cell_type": "markdown",
   "id": "81b893a9",
   "metadata": {},
   "source": [
    "(c) Compare the following numpy arrays: \n",
    "arr1 = np.array([[1, 2], [3, 4]]) \n",
    "arr2 = np.array([[1, 2], [3, 4]])"
   ]
  },
  {
   "cell_type": "code",
   "execution_count": null,
   "id": "bf436629",
   "metadata": {},
   "outputs": [
    {
     "name": "stdout",
     "output_type": "stream",
     "text": [
      "True\n"
     ]
    }
   ],
   "source": [
    "# (c)\n",
    "arr1 = np.array([[1, 2], [3, 4]]) \n",
    "arr2 = np.array([[1, 2], [3, 4]])\n",
    "print(np.array_equal(arr1, arr2))"
   ]
  },
  {
   "cell_type": "markdown",
   "id": "a5ab165c",
   "metadata": {},
   "source": [
    "(d) Find the most frequent value and their indice(s) in the following arrays: \n",
    "i.  x = np.array([1,2,3,4,5,1,2,1,1,1]) \n",
    "ii.  y = np.array([1, 1, 1, 2, 3, 4, 2, 4, 3, 3, ])"
   ]
  },
  {
   "cell_type": "code",
   "execution_count": 10,
   "id": "5f6edf86",
   "metadata": {},
   "outputs": [
    {
     "name": "stdout",
     "output_type": "stream",
     "text": [
      "element = 1, indeces = (array([0, 5, 7, 8, 9]),)\n",
      "element = 3, indeces = (array([ 4,  8,  9, 10]),)\n"
     ]
    }
   ],
   "source": [
    "# (d)\n",
    "x = np.array([1, 2, 3, 4, 5, 1, 2, 1, 1, 1]) \n",
    "y = np.array([1, 1, 1, 2, 3, 4, 2, 4, 3, 3, 3])\n",
    "def freq(arr):\n",
    "    val = np.bincount(arr).argmax()\n",
    "    print(f\"element = {val}, indeces = {np.where(arr == val)}\")\n",
    "\n",
    "freq(x)\n",
    "freq(y)"
   ]
  },
  {
   "cell_type": "markdown",
   "id": "94c6670d",
   "metadata": {},
   "source": [
    "(e) For the array gfg = np.matrix('[4, 1, 9; 12, 3, 1; 4, 5, 6]'), find \n",
    "i.  Sum of all elements \n",
    "ii.  Sum of all elements row-wise  \n",
    "iii.  Sum of all elements column-wise"
   ]
  },
  {
   "cell_type": "code",
   "execution_count": 50,
   "id": "23977d6a",
   "metadata": {},
   "outputs": [
    {
     "name": "stdout",
     "output_type": "stream",
     "text": [
      "Sum = 45\n",
      "Sum of Columns = [[20  9 16]]\n",
      "Sum of Rows =\n",
      " [[14]\n",
      " [16]\n",
      " [15]]\n"
     ]
    }
   ],
   "source": [
    "# (e)\n",
    "gfg = np.matrix('[4, 1, 9; 12, 3, 1; 4, 5, 6]')\n",
    "print(f\"Sum = {np.sum(gfg)}\")\n",
    "print(f\"Sum of Columns = {np.sum(gfg, axis=0)}\")\n",
    "print(f\"Sum of Rows =\\n {np.sum(gfg, axis=1)}\")"
   ]
  },
  {
   "cell_type": "markdown",
   "id": "9a6b1b10",
   "metadata": {},
   "source": [
    "(f) For the matrix: n_array = np.array([[55, 25, 15],[30, 44, 2],[11, 45, 77]]), find \n",
    "i.  Sum of diagonal elements \n",
    "ii.  Eigen values of matrix \n",
    "iii.  Eigen vectors of matrix \n",
    "iv.  Inverse of matrix \n",
    "v.  Determinant of matrix "
   ]
  },
  {
   "cell_type": "code",
   "execution_count": 49,
   "id": "f96938ca",
   "metadata": {},
   "outputs": [
    {
     "name": "stdout",
     "output_type": "stream",
     "text": [
      "Sum of diagnol = 176\n",
      "Sum of diagnol = 176\n",
      "Eigen values =\n",
      " [98.16835147 28.097044   49.73460452]\n",
      "Eigen vector =\n",
      " [[ 0.4574917   0.34637121 -0.15017693]\n",
      " [ 0.28447814 -0.72784061 -0.4852124 ]\n",
      " [ 0.84248058  0.59184038  0.8614034 ]]\n",
      "Inverse =\n",
      " [[ 0.02404141 -0.00911212 -0.00444671]\n",
      " [-0.01667882  0.02966905  0.0024785 ]\n",
      " [ 0.00631287 -0.01603732  0.01217379]]\n",
      "Determinant = 137180.0000000001\n"
     ]
    }
   ],
   "source": [
    "# (f)\n",
    "n_array = np.array([[55, 25, 15],[30, 44, 2],[11, 45, 77]]) \n",
    "print(f\"Sum of diagnol = {np.sum(np.diag(n_array))}\") # (i)\n",
    "print(f\"Sum of diagnol = {np.trace(n_array)}\") # (i)\n",
    "print(f\"Eigen values =\\n {np.linalg.eig(n_array)[0]}\")\n",
    "print(f\"Eigen vector =\\n {np.linalg.eig(n_array)[1]}\")\n",
    "print(f\"Inverse =\\n {np.linalg.inv(n_array)}\")\n",
    "print(f\"Determinant = {np.linalg.det(n_array)}\")"
   ]
  },
  {
   "cell_type": "markdown",
   "id": "a9c175e2",
   "metadata": {},
   "source": [
    "(g) Multiply the following matrices and also find covariance between matrices using NumPy: \n",
    "i.  p = [[1, 2], [2, 3]] \n",
    "q = [[4, 5], [6, 7]] \n",
    "ii.  p = [[1, 2], [2, 3], [4, 5]] \n",
    "q = [[4, 5, 1], [6, 7, 2]]"
   ]
  },
  {
   "cell_type": "code",
   "execution_count": 47,
   "id": "5f46fcb6",
   "metadata": {},
   "outputs": [
    {
     "name": "stdout",
     "output_type": "stream",
     "text": [
      "Multipication =\n",
      " [[16 19]\n",
      " [26 31]]\n",
      "Covariance =\n",
      " [[0.66666667 1.        ]\n",
      " [1.         1.66666667]]\n",
      "Multipication =\n",
      " [[16 19  5]\n",
      " [26 31  8]\n",
      " [46 55 14]]\n",
      "Shape mismatch\n"
     ]
    }
   ],
   "source": [
    "# (g)\n",
    "p1 = np.array([[1, 2], [2, 3]])\n",
    "q1 = np.array([[4, 5], [6, 7]])\n",
    "p2 = np.array([[1, 2], [2, 3], [4, 5]])\n",
    "q2 = np.array([[4, 5, 1], [6, 7, 2]] )\n",
    "\n",
    "def calc(p, q):\n",
    "    print(f\"Multipication =\\n {np.dot(p, q)}\")\n",
    "    if p.shape == q.shape:\n",
    "        print(f\"Covariance =\\n {np.cov(p.flatten(), q.flatten())}\")\n",
    "    else:\n",
    "        print(\"Shape mismatch\")\n",
    "\n",
    "calc(p1, q1)\n",
    "calc(p2, q2)"
   ]
  },
  {
   "cell_type": "markdown",
   "id": "635be08a",
   "metadata": {},
   "source": [
    "(h) For the matrices: x = np.array([[2, 3, 4], [3, 2, 9]]); y = np.array([[1, 5, 0], [5, 10, 3]]), \n",
    "find inner, outer and cartesian product?"
   ]
  },
  {
   "cell_type": "code",
   "execution_count": 2,
   "id": "e93eb012",
   "metadata": {},
   "outputs": [
    {
     "name": "stdout",
     "output_type": "stream",
     "text": [
      "Inner =\n",
      " [[17 52]\n",
      " [13 62]]\n",
      "Outer =\n",
      " [[ 2 10  0 10 20  6]\n",
      " [ 3 15  0 15 30  9]\n",
      " [ 4 20  0 20 40 12]\n",
      " [ 3 15  0 15 30  9]\n",
      " [ 2 10  0 10 20  6]\n",
      " [ 9 45  0 45 90 27]]\n",
      "Cartessian =\n",
      " [[ 2  1]\n",
      " [ 2  5]\n",
      " [ 2  0]\n",
      " [ 2  5]\n",
      " [ 2 10]\n",
      " [ 2  3]\n",
      " [ 3  1]\n",
      " [ 3  5]\n",
      " [ 3  0]\n",
      " [ 3  5]\n",
      " [ 3 10]\n",
      " [ 3  3]\n",
      " [ 4  1]\n",
      " [ 4  5]\n",
      " [ 4  0]\n",
      " [ 4  5]\n",
      " [ 4 10]\n",
      " [ 4  3]\n",
      " [ 3  1]\n",
      " [ 3  5]\n",
      " [ 3  0]\n",
      " [ 3  5]\n",
      " [ 3 10]\n",
      " [ 3  3]\n",
      " [ 2  1]\n",
      " [ 2  5]\n",
      " [ 2  0]\n",
      " [ 2  5]\n",
      " [ 2 10]\n",
      " [ 2  3]\n",
      " [ 9  1]\n",
      " [ 9  5]\n",
      " [ 9  0]\n",
      " [ 9  5]\n",
      " [ 9 10]\n",
      " [ 9  3]]\n"
     ]
    }
   ],
   "source": [
    "# (h)\n",
    "x = np.array([[2, 3, 4], [3, 2, 9]]) \n",
    "y = np.array([[1, 5, 0], [5, 10, 3]])\n",
    "print(f\"Inner =\\n {np.inner(x, y)}\")\n",
    "print(f\"Outer =\\n {np.outer(x.flatten(), y.flatten())}\")\n",
    "print(f\"Cartessian =\\n {np.array(np.meshgrid(x.flatten(), y.flatten())).T.reshape(-1, 2)}\")"
   ]
  },
  {
   "cell_type": "markdown",
   "id": "9396bc76",
   "metadata": {},
   "source": [
    "Q2 NumPy Mathematics and Statistics"
   ]
  },
  {
   "cell_type": "markdown",
   "id": "394a9108",
   "metadata": {},
   "source": [
    "(a)  For the array: array = np.array([[1, -2, 3],[-4, 5, -6]]) \n",
    "i.  Find element-wise absolute value \n",
    "ii.  Find the 25th, 50th, and 75th percentile of flattened array, for each column, for each \n",
    "row. \n",
    "iii.  Mean, Median and Standard Deviation of flattened array, of each column, and \n",
    "each row"
   ]
  },
  {
   "cell_type": "code",
   "execution_count": null,
   "id": "4521d5c2",
   "metadata": {},
   "outputs": [
    {
     "name": "stdout",
     "output_type": "stream",
     "text": [
      "Element-wise Absoulte = \n",
      "[[1 2 3]\n",
      " [4 5 6]]\n",
      "25th Percentile = -3.5\n",
      "25th Percentile Row = [-0.5 -5. ]\n",
      "25th Percentile Column = [-2.75 -0.25 -3.75]\n",
      "50th Percentile = -0.5\n",
      "50th Percentile Row = [ 1. -4.]\n",
      "50th Percentile Column = [-1.5  1.5 -1.5]\n",
      "75th Percentile = 2.5\n",
      "75th Percentile Row = [2.  0.5]\n",
      "75th Percentile Column = [-0.25  3.25  0.75]\n",
      "Mean = -0.5\n",
      "Median = -0.5\n",
      "Standard Deviation = 3.8622100754188224\n",
      "Row\n",
      "Mean = [ 0.66666667 -1.66666667]\n",
      "Median = [ 1. -4.]\n",
      "Standard Deviation = [2.05480467 4.78423336]\n",
      "Column\n",
      "Mean = [-1.5  1.5 -1.5]\n",
      "Median = [-1.5  1.5 -1.5]\n",
      "Standard Deviation = [2.5 3.5 4.5]\n"
     ]
    }
   ],
   "source": [
    "# (a)\n",
    "array = np.array([[1, -2, 3], [-4, 5, -6]])\n",
    "print(f\"Element-wise Absoulte = \\n{np.abs(array)}\")\n",
    "f = array.flatten()\n",
    "for i in [25, 50, 75] :\n",
    "    print(f\"{i}th Percentile = {np.percentile(f, i)}\")\n",
    "    print(f\"{i}th Percentile Row = {np.percentile(array, i, axis=1)}\")\n",
    "    print(f\"{i}th Percentile Column = {np.percentile(array, i, axis=0)}\")\n",
    "\n",
    "print(f\"Mean = {np.mean(array.flatten())}\")\n",
    "print(f\"Median = {np.median(array.flatten())}\")\n",
    "print(f\"Standard Deviation = {np.std(array.flatten())}\")\n",
    "print(\"Row\")\n",
    "print(f\"Mean = {np.mean(array, axis=1)}\")\n",
    "print(f\"Median = {np.median(array, axis=1)}\")\n",
    "print(f\"Standard Deviation = {np.std(array, axis=1)}\")\n",
    "print(\"Column\")\n",
    "print(f\"Mean = {np.mean(array, axis=0)}\")\n",
    "print(f\"Median = {np.median(array, axis=0)}\")\n",
    "print(f\"Standard Deviation = {np.std(array, axis=0)}\")"
   ]
  },
  {
   "cell_type": "markdown",
   "id": "12088f23",
   "metadata": {},
   "source": [
    "(b)  For the array: a = np.array([-1.8, -1.6, -0.5, 0.5,1.6, 1.8, 3.0]). Find floor, ceiling \n",
    "and truncated value, rounded values"
   ]
  },
  {
   "cell_type": "code",
   "execution_count": 11,
   "id": "1ccdd2ff",
   "metadata": {},
   "outputs": [
    {
     "name": "stdout",
     "output_type": "stream",
     "text": [
      "Floor = [-2. -2. -1.  0.  1.  1.  3.]\n",
      "Ceil = [-1. -1. -0.  1.  2.  2.  3.]\n",
      "Truncated = [-1. -1. -0.  0.  1.  1.  3.]\n",
      "Rounded = [-2. -2. -0.  0.  2.  2.  3.]\n"
     ]
    }
   ],
   "source": [
    "# (b)\n",
    "a = np.array([-1.8, -1.6, -0.5, 0.5, 1.6, 1.8, 3.0])\n",
    "print(f\"Floor = {np.floor(a)}\")\n",
    "print(f\"Ceil = {np.ceil(a)}\")\n",
    "print(f\"Truncated = {np.trunc(a)}\")\n",
    "print(f\"Rounded = {np.round(a)}\")"
   ]
  },
  {
   "cell_type": "markdown",
   "id": "5e918794",
   "metadata": {},
   "source": [
    "Q3 Searching and Sorting"
   ]
  },
  {
   "cell_type": "markdown",
   "id": "03385f93",
   "metadata": {},
   "source": [
    "(a) For the array: array = np.array([10, 52, 62, 16, 16, 54, 453]), find \n",
    "i.  Sorted array \n",
    "ii.  Indices of sorted array \n",
    "iii.  4 smallest elements \n",
    "iv.  5 largest elements"
   ]
  },
  {
   "cell_type": "code",
   "execution_count": null,
   "id": "b5ce77fa",
   "metadata": {},
   "outputs": [
    {
     "name": "stdout",
     "output_type": "stream",
     "text": [
      "Array = [ 10  52  62  16  16  54 453]\n",
      "Sorted = [ 10  16  16  52  54  62 453]\n",
      "Index = [0 3 4 1 5 2 6]\n",
      "4 Smallest = [10 16 16 52]\n",
      "4 Smallest = [ 16  52  54  62 453]\n"
     ]
    }
   ],
   "source": [
    "# (a)\n",
    "array = np.array([10, 52, 62, 16, 16, 54, 453])\n",
    "print(f\"Array = {(array)}\")\n",
    "print(f\"Sorted = {np.sort(array)}\")\n",
    "print(f\"Index = {np.argsort(array)}\")\n",
    "print(f\"4 Smallest = {np.sort(array)[:4]}\")\n",
    "print(f\"4 Smallest = {np.sort(array)[-5:]}\")"
   ]
  },
  {
   "cell_type": "markdown",
   "id": "0f034a15",
   "metadata": {},
   "source": [
    "(b) For the array: array = np.array([1.0, 1.2, 2.2, 2.0, 3.0, 2.0]), find \n",
    "i.  Integer elements only \n",
    "ii.  Float elements only"
   ]
  },
  {
   "cell_type": "code",
   "execution_count": null,
   "id": "5e9b5fa1",
   "metadata": {},
   "outputs": [
    {
     "name": "stdout",
     "output_type": "stream",
     "text": [
      "Array = [1.  1.2 2.2 2.  3.  2. ]\n",
      "Integers = [1. 2. 3. 2.]\n",
      "Floats = [1.2 2.2]\n"
     ]
    }
   ],
   "source": [
    "# (b)\n",
    "array = np.array([1.0, 1.2, 2.2, 2.0, 3.0, 2.0])\n",
    "print(f\"Array = {(array)}\")\n",
    "print(f\"Integers = {array[array == array.astype(int)]}\")\n",
    "print(f\"Floats = {array[array != array.astype(int)]}\")  # if i use astype float returns all as every element has decimal"
   ]
  },
  {
   "cell_type": "markdown",
   "id": "ba3bd8a6",
   "metadata": {},
   "source": [
    "Q4 Image"
   ]
  },
  {
   "cell_type": "markdown",
   "id": "a9baaf64",
   "metadata": {},
   "source": [
    "(a) Write a function named img_to_array(path) that reads an image from a specified path and \n",
    "save it as text file on local machine? (Note: use separate cases for RGB and Grey Scale \n",
    "images)"
   ]
  },
  {
   "cell_type": "code",
   "execution_count": null,
   "id": "691a6d29",
   "metadata": {},
   "outputs": [],
   "source": [
    "# (a)\n"
   ]
  },
  {
   "cell_type": "markdown",
   "id": "9939fea3",
   "metadata": {},
   "source": [
    "(b) Load the saved file into jupyter notebook?"
   ]
  },
  {
   "cell_type": "code",
   "execution_count": null,
   "id": "656d028e",
   "metadata": {},
   "outputs": [],
   "source": [
    "# (b)"
   ]
  }
 ],
 "metadata": {
  "kernelspec": {
   "display_name": "Python 3",
   "language": "python",
   "name": "python3"
  },
  "language_info": {
   "codemirror_mode": {
    "name": "ipython",
    "version": 3
   },
   "file_extension": ".py",
   "mimetype": "text/x-python",
   "name": "python",
   "nbconvert_exporter": "python",
   "pygments_lexer": "ipython3",
   "version": "3.13.0"
  }
 },
 "nbformat": 4,
 "nbformat_minor": 5
}
